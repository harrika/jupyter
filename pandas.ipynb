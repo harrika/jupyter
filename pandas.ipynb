{
 "cells": [
  {
   "cell_type": "code",
   "execution_count": 21,
   "metadata": {
    "collapsed": false
   },
   "outputs": [],
   "source": [
    "import pandas\n",
    "from pandas import *\n",
    "import pylab\n",
    "from pylab import *"
   ]
  },
  {
   "cell_type": "code",
   "execution_count": 22,
   "metadata": {
    "collapsed": false
   },
   "outputs": [],
   "source": [
    "names = read_csv('mentor3.csv')"
   ]
  },
  {
   "cell_type": "code",
   "execution_count": 50,
   "metadata": {
    "collapsed": false,
    "scrolled": true
   },
   "outputs": [
    {
     "data": {
      "text/html": [
       "<div>\n",
       "<table border=\"1\" class=\"dataframe\">\n",
       "  <thead>\n",
       "    <tr style=\"text-align: right;\">\n",
       "      <th></th>\n",
       "      <th>name</th>\n",
       "      <th>sex</th>\n",
       "      <th>email</th>\n",
       "    </tr>\n",
       "  </thead>\n",
       "  <tbody>\n",
       "    <tr>\n",
       "      <th>2</th>\n",
       "      <td>ISHIMWE     FLORENTINE</td>\n",
       "      <td>m</td>\n",
       "      <td>ishimwe.frorentine@yahoo.com</td>\n",
       "    </tr>\n",
       "    <tr>\n",
       "      <th>3</th>\n",
       "      <td>UWAMAHORO DENYSE</td>\n",
       "      <td>mf</td>\n",
       "      <td>udenise100@gmail.com</td>\n",
       "    </tr>\n",
       "    <tr>\n",
       "      <th>4</th>\n",
       "      <td>KABATESI BLANDINE</td>\n",
       "      <td>f</td>\n",
       "      <td>brandytesh133@gmail.com</td>\n",
       "    </tr>\n",
       "    <tr>\n",
       "      <th>5</th>\n",
       "      <td>UWERA BEATHE</td>\n",
       "      <td>m</td>\n",
       "      <td>uwerabet20@gmail.com</td>\n",
       "    </tr>\n",
       "  </tbody>\n",
       "</table>\n",
       "</div>"
      ],
      "text/plain": [
       "                     name sex                         email\n",
       "2  ISHIMWE     FLORENTINE   m  ishimwe.frorentine@yahoo.com\n",
       "3        UWAMAHORO DENYSE  mf          udenise100@gmail.com\n",
       "4       KABATESI BLANDINE   f       brandytesh133@gmail.com\n",
       "5            UWERA BEATHE   m          uwerabet20@gmail.com"
      ]
     },
     "execution_count": 50,
     "metadata": {},
     "output_type": "execute_result"
    }
   ],
   "source": [
    "names.ix[2:5, ['name','sex','email']]"
   ]
  },
  {
   "cell_type": "code",
   "execution_count": 51,
   "metadata": {
    "collapsed": false
   },
   "outputs": [
    {
     "data": {
      "text/html": [
       "<div>\n",
       "<table border=\"1\" class=\"dataframe\">\n",
       "  <thead>\n",
       "    <tr style=\"text-align: right;\">\n",
       "      <th></th>\n",
       "      <th>sn</th>\n",
       "      <th>sex</th>\n",
       "      <th>name</th>\n",
       "      <th>reg</th>\n",
       "      <th>tel</th>\n",
       "      <th>email</th>\n",
       "      <th>mentor</th>\n",
       "      <th>Unnamed: 7</th>\n",
       "      <th>Unnamed: 8</th>\n",
       "      <th>Unnamed: 9</th>\n",
       "    </tr>\n",
       "  </thead>\n",
       "  <tbody>\n",
       "    <tr>\n",
       "      <th>4</th>\n",
       "      <td>5</td>\n",
       "      <td>f</td>\n",
       "      <td>KABATESI BLANDINE</td>\n",
       "      <td>215030176</td>\n",
       "      <td>787905008.0</td>\n",
       "      <td>brandytesh133@gmail.com</td>\n",
       "      <td>Mr. Henry Kirya</td>\n",
       "      <td>NaN</td>\n",
       "      <td>NaN</td>\n",
       "      <td>NaN</td>\n",
       "    </tr>\n",
       "    <tr>\n",
       "      <th>10</th>\n",
       "      <td>11</td>\n",
       "      <td>f</td>\n",
       "      <td>KARUNUGABO PASCAL</td>\n",
       "      <td>215030219</td>\n",
       "      <td>727435796.0</td>\n",
       "      <td>pkarugabo@yahoo.com</td>\n",
       "      <td>Mr.Nkwanga Tonny</td>\n",
       "      <td>NaN</td>\n",
       "      <td>NaN</td>\n",
       "      <td>NaN</td>\n",
       "    </tr>\n",
       "  </tbody>\n",
       "</table>\n",
       "</div>"
      ],
      "text/plain": [
       "    sn sex               name        reg          tel  \\\n",
       "4    5   f  KABATESI BLANDINE  215030176  787905008.0   \n",
       "10  11   f  KARUNUGABO PASCAL  215030219  727435796.0   \n",
       "\n",
       "                      email            mentor  Unnamed: 7 Unnamed: 8  \\\n",
       "4   brandytesh133@gmail.com   Mr. Henry Kirya         NaN        NaN   \n",
       "10      pkarugabo@yahoo.com  Mr.Nkwanga Tonny         NaN        NaN   \n",
       "\n",
       "   Unnamed: 9  \n",
       "4         NaN  \n",
       "10        NaN  "
      ]
     },
     "execution_count": 51,
     "metadata": {},
     "output_type": "execute_result"
    }
   ],
   "source": [
    "gnames = names[names['sex'] == 'f']\n",
    "bnames = names[names['sex'] == 'm']\n",
    "gnames.head(2)"
   ]
  },
  {
   "cell_type": "code",
   "execution_count": 52,
   "metadata": {
    "collapsed": false
   },
   "outputs": [
    {
     "data": {
      "text/html": [
       "<div>\n",
       "<table border=\"1\" class=\"dataframe\">\n",
       "  <thead>\n",
       "    <tr style=\"text-align: right;\">\n",
       "      <th></th>\n",
       "      <th>sn</th>\n",
       "      <th>sex</th>\n",
       "      <th>name</th>\n",
       "      <th>reg</th>\n",
       "      <th>tel</th>\n",
       "      <th>email</th>\n",
       "      <th>mentor</th>\n",
       "      <th>Unnamed: 7</th>\n",
       "      <th>Unnamed: 8</th>\n",
       "      <th>Unnamed: 9</th>\n",
       "    </tr>\n",
       "  </thead>\n",
       "  <tbody>\n",
       "    <tr>\n",
       "      <th>0</th>\n",
       "      <td>1</td>\n",
       "      <td>m</td>\n",
       "      <td>NGABO  TRESOR</td>\n",
       "      <td>215030323</td>\n",
       "      <td>785186217.0</td>\n",
       "      <td>ngatreso1@gmai.com</td>\n",
       "      <td>Mr. Henry Kirya</td>\n",
       "      <td>NaN</td>\n",
       "      <td>NaN</td>\n",
       "      <td>NaN</td>\n",
       "    </tr>\n",
       "    <tr>\n",
       "      <th>1</th>\n",
       "      <td>2</td>\n",
       "      <td>m</td>\n",
       "      <td>LAETITIA  NYAMPUNDU</td>\n",
       "      <td>215026909</td>\n",
       "      <td>788395278.0</td>\n",
       "      <td>laetitiadidy@gmail.com</td>\n",
       "      <td>Mr. Henry Kirya</td>\n",
       "      <td>NaN</td>\n",
       "      <td>NaN</td>\n",
       "      <td>NaN</td>\n",
       "    </tr>\n",
       "  </tbody>\n",
       "</table>\n",
       "</div>"
      ],
      "text/plain": [
       "   sn sex                 name        reg          tel  \\\n",
       "0   1   m        NGABO  TRESOR  215030323  785186217.0   \n",
       "1   2   m  LAETITIA  NYAMPUNDU  215026909  788395278.0   \n",
       "\n",
       "                    email           mentor  Unnamed: 7 Unnamed: 8 Unnamed: 9  \n",
       "0      ngatreso1@gmai.com  Mr. Henry Kirya         NaN        NaN        NaN  \n",
       "1  laetitiadidy@gmail.com  Mr. Henry Kirya         NaN        NaN        NaN  "
      ]
     },
     "execution_count": 52,
     "metadata": {},
     "output_type": "execute_result"
    }
   ],
   "source": [
    "bnames.head(2)"
   ]
  },
  {
   "cell_type": "code",
   "execution_count": 55,
   "metadata": {
    "collapsed": false
   },
   "outputs": [],
   "source": [
    "nam = names[names['reg'] == 215030323]\n"
   ]
  },
  {
   "cell_type": "code",
   "execution_count": 61,
   "metadata": {
    "collapsed": false
   },
   "outputs": [],
   "source": [
    "gnames2 = gnames.ix[0:, ['sex','name', 'reg']]\n",
    "gnames2 = gnames2.set_index(['reg'])"
   ]
  },
  {
   "cell_type": "code",
   "execution_count": 63,
   "metadata": {
    "collapsed": false
   },
   "outputs": [
    {
     "data": {
      "text/html": [
       "<div>\n",
       "<table border=\"1\" class=\"dataframe\">\n",
       "  <thead>\n",
       "    <tr style=\"text-align: right;\">\n",
       "      <th></th>\n",
       "      <th>sex</th>\n",
       "      <th>name</th>\n",
       "    </tr>\n",
       "    <tr>\n",
       "      <th>reg</th>\n",
       "      <th></th>\n",
       "      <th></th>\n",
       "    </tr>\n",
       "  </thead>\n",
       "  <tbody>\n",
       "    <tr>\n",
       "      <th>215030176</th>\n",
       "      <td>f</td>\n",
       "      <td>KABATESI BLANDINE</td>\n",
       "    </tr>\n",
       "    <tr>\n",
       "      <th>215030219</th>\n",
       "      <td>f</td>\n",
       "      <td>KARUNUGABO PASCAL</td>\n",
       "    </tr>\n",
       "    <tr>\n",
       "      <th>215030237</th>\n",
       "      <td>f</td>\n",
       "      <td>KUBWIMANA CHARLES</td>\n",
       "    </tr>\n",
       "  </tbody>\n",
       "</table>\n",
       "</div>"
      ],
      "text/plain": [
       "          sex               name\n",
       "reg                             \n",
       "215030176   f  KABATESI BLANDINE\n",
       "215030219   f  KARUNUGABO PASCAL\n",
       "215030237   f  KUBWIMANA CHARLES"
      ]
     },
     "execution_count": 63,
     "metadata": {},
     "output_type": "execute_result"
    }
   ],
   "source": [
    "gnames2[:3]"
   ]
  },
  {
   "cell_type": "code",
   "execution_count": null,
   "metadata": {
    "collapsed": true
   },
   "outputs": [],
   "source": []
  }
 ],
 "metadata": {
  "kernelspec": {
   "display_name": "Python 3",
   "language": "python",
   "name": "python3"
  },
  "language_info": {
   "codemirror_mode": {
    "name": "ipython",
    "version": 3
   },
   "file_extension": ".py",
   "mimetype": "text/x-python",
   "name": "python",
   "nbconvert_exporter": "python",
   "pygments_lexer": "ipython3",
   "version": "3.5.1"
  }
 },
 "nbformat": 4,
 "nbformat_minor": 0
}
